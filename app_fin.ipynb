{
 "cells": [
  {
   "cell_type": "code",
   "execution_count": 1,
   "metadata": {},
   "outputs": [
    {
     "data": {
      "application/vnd.jupyter.widget-view+json": {
       "model_id": "247574520ff743f091090b3790c81f5b",
       "version_major": 2,
       "version_minor": 0
      },
      "text/plain": [
       "HBox(children=(Button(description='city:', disabled=True, style=ButtonStyle(button_color='lightgreen')), Text(…"
      ]
     },
     "metadata": {},
     "output_type": "display_data"
    }
   ],
   "source": [
    "import ipywidgets as widgets\n",
    "from autocalc.autocalc import Var\n",
    "from PIL import Image\n",
    "import requests\n",
    "import matplotlib.pyplot as plt\n",
    "import json\n",
    "import urllib.parse as urlparse\n",
    "from urllib.parse import urlencode\n",
    "import re\n",
    "from IPython.display import Image\n",
    "from IPython.display import display, clear_output\n",
    "\n",
    "city = Var('city:',initial_value = 'london', widget = widgets.Text())\n",
    "display(city)\n"
   ]
  },
  {
   "cell_type": "code",
   "execution_count": null,
   "metadata": {},
   "outputs": [],
   "source": [
    "button_send=widgets.Button(description='enter',tooltip='Send',style={'description_width':'initial'})\n",
    "\n",
    "\n",
    "output = widgets.Output()\n",
    "def on_button_clicked(event):\n",
    "    with output:\n",
    "        clear_output()\n",
    "        \n",
    "        parameters_0 = {\n",
    "            \"q\": city._v,\n",
    "            \"appid\": \"d8aaad5f4b47f70adc98da3406b9021c\"\n",
    "        }\n",
    "\n",
    "        response_loc = requests.get(\"http://api.openweathermap.org/geo/1.0/direct\", params=parameters_0)\n",
    "\n",
    "        parameters = {\n",
    "            \"lon\": response_loc.json()[0]['lon'],\n",
    "            \"lat\": response_loc.json()[0]['lat'],\n",
    "            \"appid\": \"d8aaad5f4b47f70adc98da3406b9021c\"\n",
    "        }\n",
    "\n",
    "        response_for = requests.get(\"http://api.openweathermap.org/data/2.5/forecast\", params=parameters)\n",
    "        response_curr = requests.get(\"https://api.openweathermap.org/data/2.5/weather\", params=parameters)\n",
    "        response_poll = requests.get(\"http://api.openweathermap.org/data/2.5/air_pollution\", params=parameters)\n",
    "\n",
    "        print(\"current weather:\\n\")\n",
    "        icon=response_curr.json()['weather'][0]['icon']\n",
    "        path=\"\".join([icon, \"@2x.png\"])\n",
    "        url=\"\".join([\"http://openweathermap.org/img/wn/\", path])\n",
    "        display(Image(url=url))\n",
    "        \n",
    "        print(\"current temperature:\",'{:0.0f}'.format(response_curr.json()['main']['temp']-273.15),\"C\")\n",
    "        print(\"feels like:\",'{:0.0f}'.format(response_curr.json()['main']['feels_like']-273.15),\"C\")\n",
    "        print(\"minimum temperature:\",'{:0.0f}'.format(response_curr.json()['main']['temp_min']-273.15),\"C\")\n",
    "        print(\"maximum temperature:\",'{:0.0f}'.format(response_curr.json()['main']['temp_max']-273.15),\"C\")\n",
    "        print(\"weather condition:\",response_curr.json()['weather'][0]['main'])\n",
    "\n",
    "        def numbers_to_strings(argument):\n",
    "            switcher = {\n",
    "                1: \"good\",\n",
    "                2: \"satisfactory\",\n",
    "                3: \"moderate\",\n",
    "                4: \"poor\",\n",
    "                5: \"very poor\",\n",
    "            }\n",
    "            return switcher.get(argument, \"nothing\")\n",
    "\n",
    "        \n",
    "        print(\"air condition:\",numbers_to_strings(response_poll.json()['list'][0]['main']['aqi']))\n",
    "        print(\"\\nweather forecast:\\n\")\n",
    "\n",
    "        #times_pattern = r\"^(\\d{4})-(\\d{2})-(?P<day>\\d{2}) (?P<hour>\\d{2}):\\d{2}:\\d{2}\"\n",
    "        for var in response_for.json()['list']:\n",
    "           #matches = re.search(times_pattern,var['dt_txt'])\n",
    "           #time = matches.group('hour')\n",
    "           timing=var.get('dt_txt')\n",
    "           print(timing)\n",
    "           temp=var.get('main').get('temp')\n",
    "           print('{:0.0f}'.format(temp-273.15),\"C\")\n",
    "           a=var.get('weather')[0]['icon']\n",
    "           path=\"\".join([a, \"@2x.png\"])\n",
    "           url=\"\".join([\"http://openweathermap.org/img/wn/\", path])\n",
    "           display(Image(url=url))\n",
    "\n",
    "    \n",
    "\n",
    "        \n",
    "button_send.on_click(on_button_clicked)\n",
    "vbox_result = widgets.HBox([button_send, output])\n",
    "display(vbox_result)\n"
   ]
  },
  {
   "cell_type": "code",
   "execution_count": null,
   "metadata": {},
   "outputs": [],
   "source": []
  },
  {
   "cell_type": "code",
   "execution_count": null,
   "metadata": {},
   "outputs": [],
   "source": []
  }
 ],
 "metadata": {
  "kernelspec": {
   "display_name": "Python 3 (ipykernel)",
   "language": "python",
   "name": "python3"
  },
  "language_info": {
   "codemirror_mode": {
    "name": "ipython",
    "version": 3
   },
   "file_extension": ".py",
   "mimetype": "text/x-python",
   "name": "python",
   "nbconvert_exporter": "python",
   "pygments_lexer": "ipython3",
   "version": "3.11.1"
  },
  "vscode": {
   "interpreter": {
    "hash": "409e3cd652ffcc7d4255e96748e17069a81d82983713034ea890c44e2561390b"
   }
  }
 },
 "nbformat": 4,
 "nbformat_minor": 4
}
